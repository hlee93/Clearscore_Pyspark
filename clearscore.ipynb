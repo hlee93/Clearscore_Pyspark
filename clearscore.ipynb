{
 "cells": [
  {
   "cell_type": "markdown",
   "id": "d4227cf6-3f0d-485b-86b6-22ed8c5c8d72",
   "metadata": {},
   "source": [
    "<h2>ClearScore Pyspark Project</h2>\n",
    "\n",
    "This 4 hour project is designed to process and analyze Clear Score data using Apache Spark. \n",
    "It performs various data transformation and aggregation tasks to provide insights into credit scores, employment status and bank data for users. \n",
    "\n",
    "NOTE: Change path values to where report folder was extracted to locally BEFORE running.\n",
    "\n",
    "<h3>Future Consideration</h3>\n",
    "\n",
    "<h4>Scalability/Production Approach</h4>\n",
    "The use of Pyspark allows for this project to scale to big data processing.\n",
    "<br>Pyspark can be run as part of an ETL pipeline in AWS or Databricks.\n",
    "<br>For data exploration purposes, notebooks can also be used with Databricks.\n",
    "\n",
    "<h4>Run Convenience</h4>\n",
    "For ease of running this project, jupyter notebooks was used.\n",
    "<br>This allows quick viewing of dataframes.\n",
    "\n",
    "<h4>Test Quality and Coverage</h4>\n",
    "PyTest cases have been included in code_test.py\n",
    "<br>If more time allowed, 80% test coverage is the standard to implement.\n",
    "\n",
    "<h4>Documentation</h4>\n",
    "Doc strings and comments are included throughout the code.\n",
    "<br>There is a readme describing code versions included.\n",
    "<br>Later improvements could include the use of automated doc tools to pull the docstrings for more verbose documentation.\n",
    "<br>Troubleshooting would have be included if more time was available.\n"
   ]
  },
  {
   "cell_type": "code",
   "execution_count": 8,
   "id": "51ac319e-dc92-4a6f-a543-0877344ad4c4",
   "metadata": {},
   "outputs": [],
   "source": [
    "#Imports used\n",
    "import pytest\n",
    "from pyspark.sql import SparkSession\n",
    "from pyspark.sql import functions as F\n",
    "import nest_asyncio\n",
    "from pyspark.sql.functions import desc\n",
    "from pyspark.sql.window import Window\n",
    "import json\n",
    "import clearscore_calculations\n",
    "\n",
    "#PLEASE CHANGE THESE PATHS TO WHERE FOLDERS ARE EXTRACTED LOCALLY!\n",
    "reports_path = 'E:/Technical Tests/ClearScore/bulk-reports/reports'\n",
    "accounts_path = 'E:/Technical Tests/ClearScore/bulk-reports/accounts'"
   ]
  },
  {
   "cell_type": "code",
   "execution_count": 9,
   "id": "6bf8f124-869d-4732-a730-02747bd253ef",
   "metadata": {},
   "outputs": [],
   "source": [
    "#nest_asyncio allows pyspark to run error-free in jupyter notebook\n",
    "nest_asyncio.apply()"
   ]
  },
  {
   "cell_type": "code",
   "execution_count": 10,
   "id": "d90ab39d-a16f-4228-a132-6ebf32d9f354",
   "metadata": {},
   "outputs": [
    {
     "name": "stdout",
     "output_type": "stream",
     "text": [
      "============================= test session starts =============================\n",
      "platform win32 -- Python 3.9.1, pytest-7.4.2, pluggy-1.3.0\n",
      "rootdir: C:\\Users\\hayle\\AppData\\Local\\Programs\\Python\\Python39\\Scripts\\test\n",
      "plugins: anyio-2.2.0\n",
      "collected 3 items\n",
      "\n",
      "code_tests.py ...                                                        [100%]\n",
      "\n",
      "============================== 3 passed in 8.77s ==============================\n",
      "SUCCESS: The process with PID 32508 (child process of PID 25084) has been terminated.\n",
      "SUCCESS: The process with PID 25084 (child process of PID 41648) has been terminated.\n",
      "SUCCESS: The process with PID 41648 (child process of PID 1200) has been terminated.\n"
     ]
    }
   ],
   "source": [
    "#Run pyspark tests to ensure correct functionality before processing reports\n",
    "!pytest code_tests.py"
   ]
  },
  {
   "cell_type": "code",
   "execution_count": 11,
   "id": "8f2db404-760a-4a85-a911-f54f07c10da1",
   "metadata": {},
   "outputs": [
    {
     "name": "stdout",
     "output_type": "stream",
     "text": [
      "+----------+-------------------+--------------------+---------+--------------------+\n",
      "|account-id|   pulled-timestamp|              report|report-id|           user-uuid|\n",
      "+----------+-------------------+--------------------+---------+--------------------+\n",
      "|    655300|2019-01-15T03:48:53|{{{[{94d9a04c41d3...| 44084034|8a7cd396-4de6-4ca...|\n",
      "|    655300|2018-12-15T00:43:44|{{{[{94d9a04c41d3...| 43405579|8a7cd396-4de6-4ca...|\n",
      "|    655300|2018-11-14T00:54:56|{{{[{94d9a04c41d3...| 42760695|8a7cd396-4de6-4ca...|\n",
      "|     31300|2018-07-10T13:43:24|{{{[{1aa1a3d5e8ad...| 40534392|84b111a6-2747-441...|\n",
      "|     31300|2018-05-10T00:34:39|{{{[{1aa1a3d5e8ad...| 39565862|84b111a6-2747-441...|\n",
      "|     31300|2018-06-10T00:46:43|{{{[{1aa1a3d5e8ad...| 40032979|84b111a6-2747-441...|\n",
      "|     31300|2018-04-09T00:22:16|{{{[{1aa1a3d5e8ad...| 39146400|84b111a6-2747-441...|\n",
      "|     31300|2018-12-10T00:01:04|{{{[{1aa1a3d5e8ad...| 43308952|84b111a6-2747-441...|\n",
      "|    655300|2018-05-28T09:28:20|{{{[{552525fc2deb...| 39901445|8a7cd396-4de6-4ca...|\n",
      "|    655300|2018-10-14T00:58:40|{{{[{94d9a04c41d3...| 42149391|8a7cd396-4de6-4ca...|\n",
      "|     31300|2018-11-09T22:41:04|{{{[{1aa1a3d5e8ad...| 42674920|84b111a6-2747-441...|\n",
      "|     31300|2018-03-09T00:13:18|{{{[{1aa1a3d5e8ad...| 38776706|84b111a6-2747-441...|\n",
      "|     31300|2018-10-10T22:50:06|{{{[{1aa1a3d5e8ad...| 42085789|84b111a6-2747-441...|\n",
      "|     31300|2018-08-10T00:27:06|{{{[{1aa1a3d5e8ad...| 41055850|84b111a6-2747-441...|\n",
      "|     31300|2018-02-06T16:40:51|{{{[{1aa1a3d5e8ad...| 38452754|84b111a6-2747-441...|\n",
      "|    655300|2018-09-13T09:52:13|{{{[{94d9a04c41d3...| 41579357|8a7cd396-4de6-4ca...|\n",
      "|     31300|2018-09-10T18:23:41|{{{[{1aa1a3d5e8ad...| 41520695|84b111a6-2747-441...|\n",
      "|     31300|2018-01-07T00:12:58|{{{[{f50b46bc70d5...| 38166167|84b111a6-2747-441...|\n",
      "|     31300|2017-10-03T10:16:49|{{{[{1aa1a3d5e8ad...| 37777769|84b111a6-2747-441...|\n",
      "|     31300|2017-11-07T09:10:34|{{{[{f50b46bc70d5...| 37843879|84b111a6-2747-441...|\n",
      "+----------+-------------------+--------------------+---------+--------------------+\n",
      "only showing top 20 rows\n",
      "\n",
      "+--------------------+---------+----------------+--------------------+\n",
      "|             account|accountId|createdTimestamp|           user-uuid|\n",
      "+--------------------+---------+----------------+--------------------+\n",
      "|{[{xxx, true}], t...|   464600|   1521038503228|02fb16d1-1937-4e4...|\n",
      "|{[{xxx, true}], t...|   337200|   1521037698844|0f331b0b-f1a2-4e5...|\n",
      "|{[{xxx, true}], t...|   136100|   1521037045873|fd4e1337-115e-40a...|\n",
      "|{[{xxx, false}], ...|   373500|   1521038339282|3da8c835-1ee2-41d...|\n",
      "|{[{xxx, false}], ...|   135900|   1521037685972|e7c20761-8cb4-47f...|\n",
      "|{[{xxx, false}], ...|   154600|   1521037044161|979dfe0c-5374-48e...|\n",
      "|{[{xxx, false}], ...|   847000|   1540012439760|4db76b39-e949-472...|\n",
      "|{[{xxx, true}], t...|   499000|   1521622270387|d21f8721-a394-469...|\n",
      "|{[{xxx, false}], ...|   185800|   1521036912695|b80e7284-adcb-444...|\n",
      "|{[{xxx, false}], ...|   495200|   1521534212590|6f5d9bbd-b744-49b...|\n",
      "|{[{xxx, false}], ...|   740400|   1531553623021|eccf71a6-40ac-4a4...|\n",
      "|{[{xxx, true}], t...|   536000|   1522781255392|f6ec5d42-0879-4ff...|\n",
      "|{[{xxx, true}], t...|   213200|   1521038050468|a1e1e160-7de6-4e1...|\n",
      "|{[{xxx, false}], ...|   736500|   1531255848666|e272d78d-4964-415...|\n",
      "|{[{xxx, false}], ...|   681000|   1528469034990|3dc87c55-fce3-4a3...|\n",
      "|{[{xxx, true}], t...|   703100|   1529404239493|8915b870-4f5b-4df...|\n",
      "|{[{xxx, false}], ...|   335700|   1521037855227|4d14f02f-836e-4fa...|\n",
      "|{[{xxx, false}], ...|   193700|   1521037563211|0110c686-c6a0-425...|\n",
      "|{[{xxx, true}], t...|   126700|   1521037983120|db5217c0-a1c2-4b7...|\n",
      "|{[{xxx, false}], ...|   821600|   1538550562243|857fe2ba-2bc1-46c...|\n",
      "+--------------------+---------+----------------+--------------------+\n",
      "only showing top 20 rows\n",
      "\n"
     ]
    }
   ],
   "source": [
    "#Load in json datasets as pyspark dataframes\n",
    "df_reports = clearscore_calculations.create_spark_df(reports_path)\n",
    "df_accounts = clearscore_calculations.create_spark_df(accounts_path)\n",
    "#Remove unnecessary columns to keep dataset as small as poss\n",
    "df_accounts = df_accounts.drop(*['marketId', 'schemaVersion', 'deletedTimestamp', 'updatedTimestamp']).withColumnRenamed('uuid', 'user-uuid')\n",
    "df_reports = df_reports.drop(*['bureau-id', 'client-ref'])\n",
    "#Show sample of data\n",
    "df_reports.show()\n",
    "df_accounts.show()"
   ]
  },
  {
   "cell_type": "markdown",
   "id": "04cc8d26-cc6c-402f-854d-c26bbbc1a3da",
   "metadata": {},
   "source": [
    "<h3>Average Credit Score (from all reports)</h3>"
   ]
  },
  {
   "cell_type": "code",
   "execution_count": 12,
   "id": "fcddec6a-1efc-4727-8493-98c554bce65e",
   "metadata": {},
   "outputs": [
    {
     "name": "stdout",
     "output_type": "stream",
     "text": [
      "The average credit score is 532\n"
     ]
    }
   ],
   "source": [
    "#Pull scores from user reports and calculate average\n",
    "df_scores = clearscore_calculations.get_scores(df_reports)\n",
    "average_score = round(df_scores.select(F.avg('score')).first()[0])\n",
    "print(f'The average credit score is {average_score}')"
   ]
  },
  {
   "cell_type": "markdown",
   "id": "11e8be4a-3dd3-45cf-a7e0-36c2302d9091",
   "metadata": {},
   "source": [
    "<h3>Number of Users Under Each Employment Status</h3>"
   ]
  },
  {
   "cell_type": "code",
   "execution_count": 13,
   "id": "7f78b524-185f-408b-9715-02694a6cb3c8",
   "metadata": {},
   "outputs": [
    {
     "name": "stdout",
     "output_type": "stream",
     "text": [
      "+-----------------+-----+\n",
      "|employment_status|count|\n",
      "+-----------------+-----+\n",
      "|      FT_EMPLOYED|   42|\n",
      "|      PT_EMPLOYED|    2|\n",
      "|       UNEMPLOYED|    3|\n",
      "|    SELF_EMPLOYED|    6|\n",
      "|     WORK_AT_HOME|    1|\n",
      "|          STUDENT|    1|\n",
      "|             null|    4|\n",
      "+-----------------+-----+\n",
      "\n"
     ]
    }
   ],
   "source": [
    "#Group users by employment status and cache for quicker loading in functions below\n",
    "df_accounts_employment = clearscore_calculations.get_employment_status(df_accounts)\n",
    "df_accounts_employment.cache()\n",
    "employment_status_count = df_accounts_employment.groupBy('employment_status').count()\n",
    "employment_status_count.show()"
   ]
  },
  {
   "cell_type": "markdown",
   "id": "6a8d46e2-8b71-4bfc-8898-2d3f75c8ad3a",
   "metadata": {},
   "source": [
    "<h3>Count of Users In Credit Score Ranges</h3>"
   ]
  },
  {
   "cell_type": "code",
   "execution_count": 14,
   "id": "583eeaaa-5c51-4b3f-8f68-f1f683b806d9",
   "metadata": {},
   "outputs": [
    {
     "name": "stdout",
     "output_type": "stream",
     "text": [
      "+----+------+-------+-------+-------+-------+-------+-------+-------+-------+-------+-------+-------+-------+\n",
      "|0-50|51-100|101-150|151-200|201-250|251-300|301-350|351-400|401-450|451-500|501-550|551-600|601-650|651-700|\n",
      "+----+------+-------+-------+-------+-------+-------+-------+-------+-------+-------+-------+-------+-------+\n",
      "|   4|     0|      0|      0|      0|      0|      0|      0|      0|      1|      7|     10|      5|     12|\n",
      "+----+------+-------+-------+-------+-------+-------+-------+-------+-------+-------+-------+-------+-------+\n",
      "\n"
     ]
    }
   ],
   "source": [
    "#Get most recent reports for each user and count number of users in credit ranges\n",
    "#Cache for quicker reload later\n",
    "most_recent_scores_df = clearscore_calculations.get_most_recent_reports(df_scores)\n",
    "most_recent_scores_df.cache()\n",
    "num_users_score_range = clearscore_calculations.get_score_range_count(most_recent_scores_df)\n",
    "num_users_score_range.show()"
   ]
  },
  {
   "cell_type": "markdown",
   "id": "eed81a11-9bbf-428c-ade5-8068c535ffdb",
   "metadata": {},
   "source": [
    "<h3>Enriched Bank Data</h3>"
   ]
  },
  {
   "cell_type": "code",
   "execution_count": 15,
   "id": "caacb2d8-93cc-447c-8a78-2d84a6ee5de7",
   "metadata": {},
   "outputs": [
    {
     "name": "stdout",
     "output_type": "stream",
     "text": [
      "+--------------------+-------------------+------------------------------+-------------------------+-----------------+-------------------+\n",
      "|           user-uuid|   pulled-timestamp|number_of_active_bank_accounts|total_outstanding_balance|employment_status|          bank_name|\n",
      "+--------------------+-------------------+------------------------------+-------------------------+-----------------+-------------------+\n",
      "|979dfe0c-5374-48e...|2019-01-23T16:01:46|                             3|                   984212|      FT_EMPLOYED|      STANDARD_BANK|\n",
      "|ab5a2fe6-f2c9-42a...|2018-12-20T08:35:09|                             0|                        0|      FT_EMPLOYED|FIRST_NATIONAL_BANK|\n",
      "|bfcc1755-060b-49f...|2019-01-17T01:34:29|                             0|                        0|      FT_EMPLOYED|            NEDBANK|\n",
      "|405e0215-a0db-442...|2019-01-14T02:48:31|                             2|                    92562|      FT_EMPLOYED|               ABSA|\n",
      "|4d14f02f-836e-4fa...|2018-12-29T00:46:45|                             0|                        0|    SELF_EMPLOYED|      STANDARD_BANK|\n",
      "|94653263-3ba4-4bd...|2019-01-22T00:32:18|                             2|                   666490|      FT_EMPLOYED|      STANDARD_BANK|\n",
      "|e272d78d-4964-415...|2019-01-19T19:06:23|                             1|                     6736|      FT_EMPLOYED|      STANDARD_BANK|\n",
      "|336b9f63-aa33-4a4...|2019-01-01T01:46:19|                             0|                        0|      FT_EMPLOYED|            CAPITEC|\n",
      "|861e51b8-41db-4b5...|2019-01-25T10:58:07|                             2|                  1150144|     WORK_AT_HOME|               ABSA|\n",
      "|6f5d9bbd-b744-49b...|2019-01-01T16:04:09|                             1|                    12263|       UNEMPLOYED|FIRST_NATIONAL_BANK|\n",
      "|b80e7284-adcb-444...|2019-01-24T18:28:17|                             0|                        0|      PT_EMPLOYED|      STANDARD_BANK|\n",
      "|c989b2d7-56e2-4a8...|2018-12-24T02:48:47|                             2|                    20589|      FT_EMPLOYED|               ABSA|\n",
      "|db5217c0-a1c2-4b7...|2019-01-18T00:16:41|                             1|                     3342|      FT_EMPLOYED|               ABSA|\n",
      "|eccf71a6-40ac-4a4...|2019-01-19T19:54:48|                             0|                        0|      FT_EMPLOYED|            CAPITEC|\n",
      "|b7890398-0a94-489...|2019-01-05T22:30:23|                             0|                        0|      PT_EMPLOYED|            CAPITEC|\n",
      "|6d36aa63-e1c2-4a1...|2018-12-26T02:27:52|                             3|                   156642|    SELF_EMPLOYED|               ABSA|\n",
      "|8a7cd396-4de6-4ca...|2019-01-15T03:48:53|                             1|                    17820|      FT_EMPLOYED|               ABSA|\n",
      "|a1e1e160-7de6-4e1...|2019-01-24T23:10:15|                             1|                     1486|       UNEMPLOYED|            CAPITEC|\n",
      "|4db76b39-e949-472...|2018-12-25T00:24:59|                             1|                        0|      FT_EMPLOYED|FIRST_NATIONAL_BANK|\n",
      "|8915b870-4f5b-4df...|2019-01-27T05:12:43|                             3|                  1162264|      FT_EMPLOYED|      STANDARD_BANK|\n",
      "+--------------------+-------------------+------------------------------+-------------------------+-----------------+-------------------+\n",
      "only showing top 20 rows\n",
      "\n"
     ]
    }
   ],
   "source": [
    "#Pull bank data and combine datasets\n",
    "enriched_df = clearscore_calculations.create_enriched_df(most_recent_scores_df, df_accounts_employment)\n",
    "enriched_df.show()"
   ]
  },
  {
   "cell_type": "code",
   "execution_count": 16,
   "id": "7ec3b874-d9e9-4727-9878-e556c9922b82",
   "metadata": {},
   "outputs": [
    {
     "name": "stdout",
     "output_type": "stream",
     "text": [
      "File has been written to \"C:\\Users\\hayle\\AppData\\Local\\Temp\\tmpegh5l_to\"\n",
      "File has been written to \"C:\\Users\\hayle\\AppData\\Local\\Temp\\tmpegh5l_to\"\n",
      "File has been written to \"C:\\Users\\hayle\\AppData\\Local\\Temp\\tmpegh5l_to\"\n"
     ]
    }
   ],
   "source": [
    "#Output as CSVs in temp folder\n",
    "temp_path = clearscore_calculations.create_temp_folder()\n",
    "clearscore_calculations.df_to_csv(num_users_score_range, 'Score_Range_Count', temp_path)\n",
    "clearscore_calculations.df_to_csv(employment_status_count, 'Employment_Status_Count', temp_path)\n",
    "clearscore_calculations.df_to_csv(enriched_df, 'Enriched_Bank_Data', temp_path)\n",
    "clearscore_calculations.stop_spark()"
   ]
  }
 ],
 "metadata": {
  "kernelspec": {
   "display_name": "Python 3",
   "language": "python",
   "name": "python3"
  },
  "language_info": {
   "codemirror_mode": {
    "name": "ipython",
    "version": 3
   },
   "file_extension": ".py",
   "mimetype": "text/x-python",
   "name": "python",
   "nbconvert_exporter": "python",
   "pygments_lexer": "ipython3",
   "version": "3.9.1"
  }
 },
 "nbformat": 4,
 "nbformat_minor": 5
}
